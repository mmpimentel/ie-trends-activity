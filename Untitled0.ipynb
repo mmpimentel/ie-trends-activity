{
  "nbformat": 4,
  "nbformat_minor": 0,
  "metadata": {
    "colab": {
      "name": "Untitled0.ipynb",
      "provenance": [],
      "toc_visible": true,
      "authorship_tag": "ABX9TyPc63oJB8sv2IPd4mfKIObb",
      "include_colab_link": true
    },
    "kernelspec": {
      "name": "python3",
      "display_name": "Python 3"
    },
    "language_info": {
      "name": "python"
    }
  },
  "cells": [
    {
      "cell_type": "markdown",
      "metadata": {
        "id": "view-in-github",
        "colab_type": "text"
      },
      "source": [
        "<a href=\"https://colab.research.google.com/github/mmpimentel/ie-trends-activity/blob/main/Untitled0.ipynb\" target=\"_parent\"><img src=\"https://colab.research.google.com/assets/colab-badge.svg\" alt=\"Open In Colab\"/></a>"
      ]
    },
    {
      "cell_type": "markdown",
      "metadata": {
        "id": "Q3PBkvdGv65m"
      },
      "source": [
        "# Python Basics\n",
        "This section reviews programming fundamentals using Python."
      ]
    },
    {
      "cell_type": "code",
      "metadata": {
        "id": "pvq_RX_0w1D7"
      },
      "source": [
        ""
      ],
      "execution_count": null,
      "outputs": []
    },
    {
      "cell_type": "markdown",
      "metadata": {
        "id": "1MTJQxWZwv8j"
      },
      "source": [
        "## Variables and Values"
      ]
    },
    {
      "cell_type": "code",
      "metadata": {
        "id": "fKZLS1FCw2zn"
      },
      "source": [
        "x=10\n",
        "y=3.14"
      ],
      "execution_count": 7,
      "outputs": []
    },
    {
      "cell_type": "markdown",
      "metadata": {
        "id": "um5IiUSfzYez"
      },
      "source": [
        "## Printing"
      ]
    },
    {
      "cell_type": "code",
      "metadata": {
        "colab": {
          "base_uri": "https://localhost:8080/"
        },
        "id": "z0DcsVGazb8b",
        "outputId": "d0ef6bbf-84fc-43b4-c93d-6a75a1b606d6"
      },
      "source": [
        "print(x)"
      ],
      "execution_count": 9,
      "outputs": [
        {
          "output_type": "stream",
          "text": [
            "10\n"
          ],
          "name": "stdout"
        }
      ]
    },
    {
      "cell_type": "markdown",
      "metadata": {
        "id": "8CUooszs0MMK"
      },
      "source": [
        "## Operation"
      ]
    },
    {
      "cell_type": "code",
      "metadata": {
        "colab": {
          "base_uri": "https://localhost:8080/"
        },
        "id": "Fswd0PIQ0l-5",
        "outputId": "a8b35f50-c46e-495f-a1a4-45f5473d5e39"
      },
      "source": [
        "## Addition (also a comment line)\n",
        "z1=x+y\n",
        "## Subtract\n",
        "z2=x-y\n",
        "## Multiplication\n",
        "z3=x*y\n",
        "## Division\n",
        "z4 = x/y\n",
        "z4\n"
      ],
      "execution_count": 16,
      "outputs": [
        {
          "output_type": "execute_result",
          "data": {
            "text/plain": [
              "3.184713375796178"
            ]
          },
          "metadata": {
            "tags": []
          },
          "execution_count": 16
        }
      ]
    },
    {
      "cell_type": "markdown",
      "metadata": {
        "id": "s2qsCnba10sQ"
      },
      "source": [
        "Coding $2^5$"
      ]
    },
    {
      "cell_type": "code",
      "metadata": {
        "colab": {
          "base_uri": "https://localhost:8080/"
        },
        "id": "k480NCTS1sbL",
        "outputId": "fabddd1b-6202-49a2-de1c-2974e79ae6eb"
      },
      "source": [
        "## Exponentiation\n",
        "z5 = 2**5\n",
        "## Floor Division\n",
        "z6 = 19//2\n",
        "## Trigonometric\n",
        "import math\n",
        "# math.sin(y) + math.cos(x)\n"
      ],
      "execution_count": 26,
      "outputs": [
        {
          "output_type": "stream",
          "text": [
            "9\n"
          ],
          "name": "stdout"
        }
      ]
    },
    {
      "cell_type": "markdown",
      "metadata": {
        "id": "TYCYhMnq3W8n"
      },
      "source": [
        "$sin(y) + cos(x)$"
      ]
    },
    {
      "cell_type": "markdown",
      "metadata": {
        "id": "HhTAOQ6X4OVk"
      },
      "source": [
        "### Loops"
      ]
    },
    {
      "cell_type": "markdown",
      "metadata": {
        "id": "nBd9hjhX5P6w"
      },
      "source": [
        "$\\sum_i {\\sin(i) + \\cos(i+\\pi)}$"
      ]
    },
    {
      "cell_type": "code",
      "metadata": {
        "colab": {
          "base_uri": "https://localhost:8080/"
        },
        "id": "YrfZVNXC4Rvo",
        "outputId": "d23a408e-17bd-4602-c960-29378146a3d7"
      },
      "source": [
        "## Summation\n",
        "tz=0\n",
        "for i in range (0,10):\n",
        "  tz += math.sin(i) + math.cos(i+math.pi)\n",
        "  print(tz)"
      ],
      "execution_count": 39,
      "outputs": [
        {
          "output_type": "stream",
          "text": [
            "-1.0\n",
            "-0.6988313210602433\n",
            "0.6266129423125808\n",
            "1.7577254469728933\n",
            "1.6545665725285772\n",
            "0.41198011240221266\n",
            "-0.827605672447079\n",
            "-0.9245213280715947\n",
            "0.2103369523604004\n",
            "1.533585699486834\n"
          ],
          "name": "stdout"
        }
      ]
    },
    {
      "cell_type": "markdown",
      "metadata": {
        "id": "gZF5IQvL7YIP"
      },
      "source": [
        "## Function"
      ]
    },
    {
      "cell_type": "markdown",
      "metadata": {
        "id": "k0EZZ2HZ7pG1"
      },
      "source": [
        "$sum - i^2$\n",
        "\n",
        "$\\pi$"
      ]
    },
    {
      "cell_type": "code",
      "metadata": {
        "colab": {
          "base_uri": "https://localhost:8080/"
        },
        "id": "9qS90CcO7bX8",
        "outputId": "284fed6c-c294-457c-b2ea-d2e81cff1173"
      },
      "source": [
        "s=0\n",
        "for i in range(0,10):\n",
        "  s+=i\n",
        "  print(equation1(s,i))\n"
      ],
      "execution_count": 44,
      "outputs": [
        {
          "output_type": "stream",
          "text": [
            "0\n",
            "0\n",
            "-1\n",
            "-3\n",
            "-6\n",
            "-10\n",
            "-15\n",
            "-21\n",
            "-28\n",
            "-36\n"
          ],
          "name": "stdout"
        }
      ]
    },
    {
      "cell_type": "code",
      "metadata": {
        "id": "iITPKTnt8KOJ"
      },
      "source": [
        "def equation1(s,i):\n",
        "  return s-i**2\n"
      ],
      "execution_count": 43,
      "outputs": []
    }
  ]
}